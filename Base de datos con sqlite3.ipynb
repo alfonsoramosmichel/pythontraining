{
 "cells": [
  {
   "cell_type": "code",
   "execution_count": 15,
   "metadata": {
    "collapsed": true
   },
   "outputs": [],
   "source": [
    "import sqlite3"
   ]
  },
  {
   "cell_type": "code",
   "execution_count": 54,
   "metadata": {},
   "outputs": [],
   "source": [
    "def create_table(table):\n",
    "    conn=sqlite3.connect(table+\".db\")\n",
    "    cur=conn.cursor()\n",
    "    cur.execute(\"CREATE TABLE IF NOT EXISTS store (item TEXT, quantity INTEGER, price REAL)\")\n",
    "    conn.commit()\n",
    "    conn.close()"
   ]
  },
  {
   "cell_type": "code",
   "execution_count": 26,
   "metadata": {},
   "outputs": [],
   "source": [
    "def insert(item,quantity,price):\n",
    "    conn=sqlite3.connect(\"lite.db\")\n",
    "    cur=conn.cursor()\n",
    "    cur.execute(\"INSERT INTO store VALUES (?,?,?)\",(item,quantity,price))\n",
    "    conn.commit()\n",
    "    conn.close()"
   ]
  },
  {
   "cell_type": "code",
   "execution_count": 51,
   "metadata": {
    "collapsed": true
   },
   "outputs": [],
   "source": [
    "def view(table):\n",
    "    conn=sqlite3.connect(table+\".db\")\n",
    "    cur=conn.cursor()\n",
    "    cur.execute(\"SELECT * FROM store\")\n",
    "    rows=cur.fetchall()\n",
    "    conn.close()\n",
    "    return rows"
   ]
  },
  {
   "cell_type": "code",
   "execution_count": 34,
   "metadata": {
    "collapsed": true
   },
   "outputs": [],
   "source": [
    "def delete(item):\n",
    "    conn=sqlite3.connect(\"lite.db\")\n",
    "    cur=conn.cursor()\n",
    "    cur.execute(\"DELETE FROM store WHERE item=?\", (item,))\n",
    "    conn.commit()\n",
    "    conn.close()"
   ]
  },
  {
   "cell_type": "code",
   "execution_count": 55,
   "metadata": {
    "collapsed": true
   },
   "outputs": [],
   "source": []
  },
  {
   "cell_type": "code",
   "execution_count": 37,
   "metadata": {
    "collapsed": true
   },
   "outputs": [],
   "source": [
    "def update(quantity, price, item):\n",
    "    conn=sqlite3.connect(\"lite.db\")\n",
    "    cur=conn.cursor()\n",
    "    cur.execute(\"UPDATE store SET quantity=?, price=? WHERE item =?\", (quantity,price,item))\n",
    "    conn.commit()\n",
    "    conn.close()"
   ]
  },
  {
   "cell_type": "code",
   "execution_count": 18,
   "metadata": {
    "collapsed": true
   },
   "outputs": [],
   "source": [
    "create_table()"
   ]
  },
  {
   "cell_type": "code",
   "execution_count": 40,
   "metadata": {},
   "outputs": [],
   "source": [
    "insert(\"water glass\", 15, 3)"
   ]
  },
  {
   "cell_type": "code",
   "execution_count": 42,
   "metadata": {
    "collapsed": true
   },
   "outputs": [],
   "source": [
    "update(11,6,\"water glass\")"
   ]
  },
  {
   "cell_type": "code",
   "execution_count": 35,
   "metadata": {},
   "outputs": [],
   "source": [
    "delete(\"Wine glass\")"
   ]
  },
  {
   "cell_type": "code",
   "execution_count": 52,
   "metadata": {},
   "outputs": [
    {
     "name": "stdout",
     "output_type": "stream",
     "text": [
      "[('Coffy cup', 10, 5.0), ('Coffee cup', 10, 5.0), ('water glass', 11, 6.0)]\n"
     ]
    }
   ],
   "source": [
    "print(view(\"lite\"))"
   ]
  }
 ],
 "metadata": {
  "kernelspec": {
   "display_name": "Python 3",
   "language": "python",
   "name": "python3"
  },
  "language_info": {
   "codemirror_mode": {
    "name": "ipython",
    "version": 3
   },
   "file_extension": ".py",
   "mimetype": "text/x-python",
   "name": "python",
   "nbconvert_exporter": "python",
   "pygments_lexer": "ipython3",
   "version": "3.6.3"
  }
 },
 "nbformat": 4,
 "nbformat_minor": 2
}
