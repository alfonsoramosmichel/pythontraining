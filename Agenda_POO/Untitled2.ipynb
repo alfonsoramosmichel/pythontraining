{
 "cells": [
  {
   "cell_type": "code",
   "execution_count": 8,
   "metadata": {},
   "outputs": [
    {
     "name": "stdout",
     "output_type": "stream",
     "text": [
      "Marca:  Honda \n",
      "Modelo:  CBR \n",
      "En marcha:  False \n",
      "Acelerando:  False \n",
      "Frenado:  False \n",
      " Voy haciendo el caballito\n"
     ]
    }
   ],
   "source": [
    "class Vehiculos():\n",
    "    \n",
    "    def __init__(self, marca, modelo):\n",
    "        self.marca=marca\n",
    "        self.modelo=modelo\n",
    "        self.enmarcha=False\n",
    "        self.acelera=False\n",
    "        self.frena=False\n",
    "        \n",
    "    def arrancar(self):\n",
    "        self.enmarcha=True\n",
    "        \n",
    "    def acelerar(self):\n",
    "        self.acelera=True\n",
    "        \n",
    "    def frenar(self):\n",
    "        self.frena=True\n",
    "        \n",
    "    def estado(self):\n",
    "        print(\"Marca: \", self.marca, \"\\nModelo: \", self.modelo, \"\\nEn marcha: \", self.enmarcha,\n",
    "             \"\\nAcelerando: \", self.acelera, \"\\nFrenado: \", self.frena)\n",
    "\n",
    "class Moto(Vehiculos):\n",
    "    hcaballito=\"\"\n",
    "    def caballito(self):\n",
    "        self.hcaballito=\"Voy haciendo el caballito\"\n",
    "    \n",
    "    def estado(self):\n",
    "        print(\"Marca: \", self.marca, \"\\nModelo: \", self.modelo, \"\\nEn marcha: \", self.enmarcha,\n",
    "             \"\\nAcelerando: \", self.acelera, \"\\nFrenado: \", self.frena, \"\\n\", self.hcaballito)\n",
    "        \n",
    "miMoto=Moto(\"Honda\", \"CBR\")\n",
    "miMoto.caballito()\n",
    "miMoto.estado()"
   ]
  }
 ],
 "metadata": {
  "kernelspec": {
   "display_name": "Python 3",
   "language": "python",
   "name": "python3"
  },
  "language_info": {
   "codemirror_mode": {
    "name": "ipython",
    "version": 3
   },
   "file_extension": ".py",
   "mimetype": "text/x-python",
   "name": "python",
   "nbconvert_exporter": "python",
   "pygments_lexer": "ipython3",
   "version": "3.6.3"
  }
 },
 "nbformat": 4,
 "nbformat_minor": 2
}
