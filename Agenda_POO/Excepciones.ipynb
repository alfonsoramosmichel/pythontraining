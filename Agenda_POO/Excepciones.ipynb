{
 "cells": [
  {
   "cell_type": "code",
   "execution_count": 3,
   "metadata": {},
   "outputs": [
    {
     "name": "stdout",
     "output_type": "stream",
     "text": [
      "Introduce el primer número: 8\n",
      "Introduce el segundo número: 0\n",
      "Introduce la operación a realizar (suma,resta,multiplica,divide): divide\n"
     ]
    },
    {
     "ename": "ZeroDivisionError",
     "evalue": "division by zero",
     "output_type": "error",
     "traceback": [
      "\u001b[0;31m---------------------------------------------------------------------------\u001b[0m",
      "\u001b[0;31mZeroDivisionError\u001b[0m                         Traceback (most recent call last)",
      "\u001b[0;32m<ipython-input-3-0a6924322553>\u001b[0m in \u001b[0;36m<module>\u001b[0;34m()\u001b[0m\n\u001b[1;32m     27\u001b[0m \u001b[0;34m\u001b[0m\u001b[0m\n\u001b[1;32m     28\u001b[0m \u001b[0;32melif\u001b[0m \u001b[0moperacion\u001b[0m\u001b[0;34m==\u001b[0m\u001b[0;34m\"divide\"\u001b[0m\u001b[0;34m:\u001b[0m\u001b[0;34m\u001b[0m\u001b[0m\n\u001b[0;32m---> 29\u001b[0;31m     \u001b[0mprint\u001b[0m\u001b[0;34m(\u001b[0m\u001b[0mdivide\u001b[0m\u001b[0;34m(\u001b[0m\u001b[0mop1\u001b[0m\u001b[0;34m,\u001b[0m\u001b[0mop2\u001b[0m\u001b[0;34m)\u001b[0m\u001b[0;34m)\u001b[0m\u001b[0;34m\u001b[0m\u001b[0m\n\u001b[0m\u001b[1;32m     30\u001b[0m \u001b[0;34m\u001b[0m\u001b[0m\n\u001b[1;32m     31\u001b[0m \u001b[0;32melse\u001b[0m\u001b[0;34m:\u001b[0m\u001b[0;34m\u001b[0m\u001b[0m\n",
      "\u001b[0;32m<ipython-input-3-0a6924322553>\u001b[0m in \u001b[0;36mdivide\u001b[0;34m(x, y)\u001b[0m\n\u001b[1;32m      9\u001b[0m \u001b[0;34m\u001b[0m\u001b[0m\n\u001b[1;32m     10\u001b[0m \u001b[0;32mdef\u001b[0m \u001b[0mdivide\u001b[0m\u001b[0;34m(\u001b[0m\u001b[0mx\u001b[0m\u001b[0;34m,\u001b[0m\u001b[0my\u001b[0m\u001b[0;34m)\u001b[0m\u001b[0;34m:\u001b[0m\u001b[0;34m\u001b[0m\u001b[0m\n\u001b[0;32m---> 11\u001b[0;31m     \u001b[0;32mreturn\u001b[0m \u001b[0mx\u001b[0m\u001b[0;34m/\u001b[0m\u001b[0my\u001b[0m\u001b[0;34m\u001b[0m\u001b[0m\n\u001b[0m\u001b[1;32m     12\u001b[0m \u001b[0;34m\u001b[0m\u001b[0m\n\u001b[1;32m     13\u001b[0m \u001b[0mop1\u001b[0m\u001b[0;34m=\u001b[0m\u001b[0;34m(\u001b[0m\u001b[0mint\u001b[0m\u001b[0;34m(\u001b[0m\u001b[0minput\u001b[0m\u001b[0;34m(\u001b[0m\u001b[0;34m\"Introduce el primer número: \"\u001b[0m\u001b[0;34m)\u001b[0m\u001b[0;34m)\u001b[0m\u001b[0;34m)\u001b[0m\u001b[0;34m\u001b[0m\u001b[0m\n",
      "\u001b[0;31mZeroDivisionError\u001b[0m: division by zero"
     ]
    }
   ],
   "source": [
    "def suma(x,y):\n",
    "    return x + y\n",
    "\n",
    "def resta(x,y):\n",
    "    return x-y\n",
    "\n",
    "def multiplica(x,y):\n",
    "    return x*y\n",
    "\n",
    "def divide(x,y):\n",
    "    return x/y\n",
    "\n",
    "op1=(int(input(\"Introduce el primer número: \")))\n",
    "\n",
    "op2=(int(input(\"Introduce el segundo número: \")))\n",
    "\n",
    "operacion=input(\"Introduce la operación a realizar (suma,resta,multiplica,divide): \")\n",
    "\n",
    "if operacion==\"suma\":\n",
    "    print(suma(op1,op2))\n",
    "\n",
    "elif operacion==\"resta\":\n",
    "    print(resta(op1,op2))\n",
    "\n",
    "elif operacion==\"multiplica\":\n",
    "    print(multiplica(op1,op2))\n",
    "\n",
    "elif operacion==\"divide\":\n",
    "    print(divide(op1,op2))\n",
    "\n",
    "else:\n",
    "    print (\"Operación no contemplada\")\n",
    "\n",
    "\n",
    "print(\"Operación ejecutada. Continuación de ejecúción del programa \")"
   ]
  },
  {
   "cell_type": "code",
   "execution_count": 4,
   "metadata": {},
   "outputs": [
    {
     "name": "stdout",
     "output_type": "stream",
     "text": [
      "Introduce el primer número: 8\n",
      "Introduce el segundo número: 0\n",
      "Introduce la operación a realizar (suma,resta,multiplica,divide): divide\n",
      "No se puede dividir entre cero.\n",
      "Operacion erronea\n",
      "Operación ejecutada. Continuación de ejecúción del programa \n"
     ]
    }
   ],
   "source": [
    "def suma(x,y):\n",
    "    return x + y\n",
    "\n",
    "def resta(x,y):\n",
    "    return x-y\n",
    "\n",
    "def multiplica(x,y):\n",
    "    return x*y\n",
    "\n",
    "# AGREGADO UN TRY --> EXCEPT PARA EVITAR EL ERROR EN DIVISION SOBRE CERO\n",
    "def divide(x,y):\n",
    "    try:\n",
    "        return x/y\n",
    "    except ZeroDivisionError:\n",
    "        print(\"No se puede dividir entre cero.\")\n",
    "        return \"Operacion erronea\"\n",
    "\n",
    "op1=(int(input(\"Introduce el primer número: \")))\n",
    "\n",
    "op2=(int(input(\"Introduce el segundo número: \")))\n",
    "\n",
    "operacion=input(\"Introduce la operación a realizar (suma,resta,multiplica,divide): \")\n",
    "\n",
    "if operacion==\"suma\":\n",
    "    print(suma(op1,op2))\n",
    "\n",
    "elif operacion==\"resta\":\n",
    "    print(resta(op1,op2))\n",
    "\n",
    "elif operacion==\"multiplica\":\n",
    "    print(multiplica(op1,op2))\n",
    "\n",
    "elif operacion==\"divide\":\n",
    "    print(divide(op1,op2))\n",
    "\n",
    "else:\n",
    "    print (\"Operación no contemplada\")\n",
    "\n",
    "\n",
    "print(\"Operación ejecutada. Continuación de ejecúción del programa \")"
   ]
  },
  {
   "cell_type": "code",
   "execution_count": 13,
   "metadata": {},
   "outputs": [
    {
     "name": "stdout",
     "output_type": "stream",
     "text": [
      "Introduce el primer número: sef\n",
      "Los valores introducidos no son correctos. intente de nuevo\n",
      "Introduce el primer número: ll\n",
      "Los valores introducidos no son correctos. intente de nuevo\n",
      "Introduce el primer número: 4\n",
      "Introduce el segundo número: sdf\n",
      "Los valores introducidos no son correctos. intente de nuevo\n",
      "Introduce el primer número: 4\n",
      "Introduce el segundo número: 8\n",
      "Introduce la operación a realizar (suma,resta,multiplica,divide): suma\n",
      "12\n",
      "Operación ejecutada. Continuación de ejecúción del programa \n"
     ]
    }
   ],
   "source": [
    "def suma(x,y):\n",
    "    return x + y\n",
    "\n",
    "def resta(x,y):\n",
    "    return x-y\n",
    "\n",
    "def multiplica(x,y):\n",
    "    return x*y\n",
    "\n",
    "# AGREGADO UN TRY --> EXCEPT PARA EVITAR EL ERROR EN DIVISION SOBRE CERO\n",
    "def divide(x,y):\n",
    "    try:\n",
    "        return x/y\n",
    "    except ZeroDivisionError:\n",
    "        print(\"No se puede dividir entre cero.\")\n",
    "        return \"Operacion erronea\"\n",
    "\n",
    "while True:\n",
    "    try:\n",
    "        op1=(int(input(\"Introduce el primer número: \")))\n",
    "        op2=(int(input(\"Introduce el segundo número: \")))\n",
    "        break;\n",
    "\n",
    "    except ValueError:\n",
    "        print(\"Los valores introducidos no son correctos. intente de nuevo\")\n",
    "\n",
    "operacion=input(\"Introduce la operación a realizar (suma,resta,multiplica,divide): \")\n",
    "\n",
    "if operacion==\"suma\":\n",
    "    print(suma(op1,op2))\n",
    "\n",
    "elif operacion==\"resta\":\n",
    "    print(resta(op1,op2))\n",
    "\n",
    "elif operacion==\"multiplica\":\n",
    "    print(multiplica(op1,op2))\n",
    "\n",
    "elif operacion==\"divide\":\n",
    "    print(divide(op1,op2))\n",
    "\n",
    "else:\n",
    "    print (\"Operación no contemplada\")\n",
    "\n",
    "\n",
    "print(\"Operación ejecutada. Continuación de ejecúción del programa \")"
   ]
  },
  {
   "cell_type": "markdown",
   "metadata": {},
   "source": [
    "### nuevo"
   ]
  },
  {
   "cell_type": "code",
   "execution_count": 16,
   "metadata": {},
   "outputs": [
    {
     "name": "stdout",
     "output_type": "stream",
     "text": [
      "Introduce el primer número: 8\n",
      "Introduce el segundo número: 0\n",
      "No se puede dividir sobre cero\n",
      "Cálculo finalizado\n"
     ]
    }
   ],
   "source": [
    "def divide():\n",
    "    try:\n",
    "        op1=(float(input(\"Introduce el primer número: \")))\n",
    "        op2=(float(input(\"Introduce el segundo número: \")))\n",
    "        print(\"La division es: \" + str(op1/op2))\n",
    "    except ValueError:\n",
    "        print(\"el valor es erroneo\")\n",
    "    except ZeroDivisionError:\n",
    "        print(\"No se puede dividir sobre cero\")\n",
    "    print(\"Cálculo finalizado\")\n",
    "divide()"
   ]
  },
  {
   "cell_type": "code",
   "execution_count": 18,
   "metadata": {},
   "outputs": [
    {
     "name": "stdout",
     "output_type": "stream",
     "text": [
      "Introduce el primer número: 8\n",
      "Introduce el segundo número: 0\n",
      "Ha ocurrido un error\n",
      "Cálculo finalizado\n"
     ]
    }
   ],
   "source": [
    "def divide():\n",
    "    try:\n",
    "        op1=(float(input(\"Introduce el primer número: \")))\n",
    "        op2=(float(input(\"Introduce el segundo número: \")))\n",
    "        print(\"La division es: \" + str(op1/op2))\n",
    "    except:\n",
    "        print(\"Ha ocurrido un error\")\n",
    "    print(\"Cálculo finalizado\")\n",
    "divide()"
   ]
  },
  {
   "cell_type": "markdown",
   "metadata": {},
   "source": [
    "### Recomendado\n",
    "Esta es una secuencia de excepciones con un *finally*, que es lo mas recomendado de hacer."
   ]
  },
  {
   "cell_type": "code",
   "execution_count": 16,
   "metadata": {},
   "outputs": [
    {
     "name": "stdout",
     "output_type": "stream",
     "text": [
      "Introduce el primer número: 8\n",
      "Introduce el segundo número: 0\n",
      "No se puede dividir sobre cero\n",
      "Cálculo finalizado\n"
     ]
    }
   ],
   "source": [
    "def divide():\n",
    "    try:\n",
    "        op1=(float(input(\"Introduce el primer número: \")))\n",
    "        op2=(float(input(\"Introduce el segundo número: \")))\n",
    "        print(\"La division es: \" + str(op1/op2))\n",
    "    except ValueError:\n",
    "        print(\"el valor es erroneo\")\n",
    "    except ZeroDivisionError:\n",
    "        print(\"No se puede dividir sobre cero\")\n",
    "    finally:\n",
    "        print(\"Cálculo finalizado\")\n",
    "divide()"
   ]
  },
  {
   "cell_type": "code",
   "execution_count": 22,
   "metadata": {},
   "outputs": [
    {
     "name": "stdout",
     "output_type": "stream",
     "text": [
      "Introduce el primer número: 5\n",
      "Introduce el segundo número: 6\n",
      "La division es: 0.8333333333333334\n",
      "Cálculo finalizado\n"
     ]
    }
   ],
   "source": [
    "def divide():\n",
    "    try:\n",
    "        op1=(float(input(\"Introduce el primer número: \")))\n",
    "        op2=(float(input(\"Introduce el segundo número: \")))\n",
    "        print(\"La division es: \" + str(op1/op2))\n",
    "    finally:\n",
    "        print(\"Cálculo finalizado\")\n",
    "divide()"
   ]
  },
  {
   "cell_type": "code",
   "execution_count": 30,
   "metadata": {},
   "outputs": [
    {
     "ename": "NameError",
     "evalue": "name 'MiPropioError' is not defined",
     "output_type": "error",
     "traceback": [
      "\u001b[0;31m---------------------------------------------------------------------------\u001b[0m",
      "\u001b[0;31mNameError\u001b[0m                                 Traceback (most recent call last)",
      "\u001b[0;32m<ipython-input-30-4f958c7d0bd2>\u001b[0m in \u001b[0;36m<module>\u001b[0;34m()\u001b[0m\n\u001b[1;32m     11\u001b[0m         \u001b[0;32mreturn\u001b[0m \u001b[0;34m\"cuidate\"\u001b[0m\u001b[0;34m\u001b[0m\u001b[0m\n\u001b[1;32m     12\u001b[0m \u001b[0;34m\u001b[0m\u001b[0m\n\u001b[0;32m---> 13\u001b[0;31m \u001b[0mprint\u001b[0m\u001b[0;34m(\u001b[0m\u001b[0mevalua_edad\u001b[0m\u001b[0;34m(\u001b[0m\u001b[0;34m-\u001b[0m\u001b[0;36m70\u001b[0m\u001b[0;34m)\u001b[0m\u001b[0;34m)\u001b[0m\u001b[0;34m\u001b[0m\u001b[0m\n\u001b[0m",
      "\u001b[0;32m<ipython-input-30-4f958c7d0bd2>\u001b[0m in \u001b[0;36mevalua_edad\u001b[0;34m(edad)\u001b[0m\n\u001b[1;32m      1\u001b[0m \u001b[0;32mdef\u001b[0m \u001b[0mevalua_edad\u001b[0m\u001b[0;34m(\u001b[0m\u001b[0medad\u001b[0m\u001b[0;34m)\u001b[0m\u001b[0;34m:\u001b[0m\u001b[0;34m\u001b[0m\u001b[0m\n\u001b[1;32m      2\u001b[0m     \u001b[0;32mif\u001b[0m \u001b[0medad\u001b[0m\u001b[0;34m<\u001b[0m\u001b[0;36m0\u001b[0m\u001b[0;34m:\u001b[0m\u001b[0;34m\u001b[0m\u001b[0m\n\u001b[0;32m----> 3\u001b[0;31m         \u001b[0;32mraise\u001b[0m \u001b[0mMiPropioError\u001b[0m\u001b[0;34m(\u001b[0m\u001b[0;34m\"no se permiten negativos\"\u001b[0m\u001b[0;34m)\u001b[0m\u001b[0;34m\u001b[0m\u001b[0m\n\u001b[0m\u001b[1;32m      4\u001b[0m     \u001b[0;32melif\u001b[0m \u001b[0medad\u001b[0m\u001b[0;34m<\u001b[0m\u001b[0;36m20\u001b[0m\u001b[0;34m:\u001b[0m\u001b[0;34m\u001b[0m\u001b[0m\n\u001b[1;32m      5\u001b[0m         \u001b[0;32mreturn\u001b[0m \u001b[0;34m\"eres muy joven\"\u001b[0m\u001b[0;34m\u001b[0m\u001b[0m\n",
      "\u001b[0;31mNameError\u001b[0m: name 'MiPropioError' is not defined"
     ]
    }
   ],
   "source": [
    "def evalua_edad(edad):\n",
    "    if edad<0:\n",
    "        raise MiPropioError(\"no se permiten negativos\")\n",
    "    elif edad<20:\n",
    "        return \"eres muy joven\"\n",
    "    elif edad<40:\n",
    "        return \"eres joven\"\n",
    "    elif edad <65:\n",
    "        return \"eres maduro\"\n",
    "    elif edad <100:\n",
    "        return \"cuidate\"\n",
    "\n",
    "print(evalua_edad(-70))"
   ]
  },
  {
   "cell_type": "code",
   "execution_count": 35,
   "metadata": {},
   "outputs": [
    {
     "name": "stdout",
     "output_type": "stream",
     "text": [
      "Introduce un número: 0\n",
      "0.0\n",
      "Programa terminado\n"
     ]
    }
   ],
   "source": [
    "import math\n",
    "\n",
    "def calcula_raiz(num1):\n",
    "    if num1<0:\n",
    "        raise ValueError(\"El número no puede ser negativo\")\n",
    "    else:\n",
    "        return math.sqrt(num1)\n",
    "    \n",
    "op1=(int(input(\"Introduce un número: \")))\n",
    "print(calcula_raiz(op1))\n",
    "\n",
    "print(\"Programa terminado\")"
   ]
  },
  {
   "cell_type": "code",
   "execution_count": 37,
   "metadata": {},
   "outputs": [
    {
     "name": "stdout",
     "output_type": "stream",
     "text": [
      "Introduce un número: -3\n",
      "ErrorDeNumeroNegativo\n",
      "Programa terminado\n"
     ]
    }
   ],
   "source": [
    "import math\n",
    "\n",
    "def calcula_raiz(num1):\n",
    "    if num1<0:\n",
    "        raise ValueError(\"El número no puede ser negativo\")\n",
    "    else:\n",
    "        return math.sqrt(num1)\n",
    "    \n",
    "op1=(int(input(\"Introduce un número: \")))\n",
    "\n",
    "try:\n",
    "    print(calcula_raiz(op1))\n",
    "\n",
    "except ValueError as ErrorDeNumeroNegativo:\n",
    "    print(\"ErrorDeNumeroNegativo\")\n",
    "    \n",
    "print(\"Programa terminado\")"
   ]
  }
 ],
 "metadata": {
  "kernelspec": {
   "display_name": "Python 3",
   "language": "python",
   "name": "python3"
  },
  "language_info": {
   "codemirror_mode": {
    "name": "ipython",
    "version": 3
   },
   "file_extension": ".py",
   "mimetype": "text/x-python",
   "name": "python",
   "nbconvert_exporter": "python",
   "pygments_lexer": "ipython3",
   "version": "3.6.3"
  }
 },
 "nbformat": 4,
 "nbformat_minor": 2
}
