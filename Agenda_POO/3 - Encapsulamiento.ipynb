{
 "cells": [
  {
   "cell_type": "markdown",
   "metadata": {},
   "source": [
    "##  Encapsulación"
   ]
  },
  {
   "cell_type": "code",
   "execution_count": 8,
   "metadata": {
    "collapsed": true
   },
   "outputs": [],
   "source": [
    "class Nacimiento:\n",
    "    \n",
    "    def __init__(self):\n",
    "        self.__anio=2000\n",
    "        self.__mes=1\n",
    "        self.__dia=1\n",
    "    \n",
    "    def setMes(self,mes):\n",
    "        if mes > 0 and mes < 13:\n",
    "            self.__mes=mes\n",
    "        else:\n",
    "            print(\"Mes invalido\")\n",
    "    \n",
    "    def getMes(self):\n",
    "        return self.__mes\n",
    "\n",
    "objeto = Nacimiento()"
   ]
  },
  {
   "cell_type": "code",
   "execution_count": 11,
   "metadata": {},
   "outputs": [],
   "source": [
    "objeto.setMes(5)"
   ]
  },
  {
   "cell_type": "code",
   "execution_count": 12,
   "metadata": {},
   "outputs": [
    {
     "name": "stdout",
     "output_type": "stream",
     "text": [
      "5\n"
     ]
    }
   ],
   "source": [
    "print(objeto.getMes())"
   ]
  }
 ],
 "metadata": {
  "kernelspec": {
   "display_name": "Python 3",
   "language": "python",
   "name": "python3"
  },
  "language_info": {
   "codemirror_mode": {
    "name": "ipython",
    "version": 3
   },
   "file_extension": ".py",
   "mimetype": "text/x-python",
   "name": "python",
   "nbconvert_exporter": "python",
   "pygments_lexer": "ipython3",
   "version": "3.6.3"
  }
 },
 "nbformat": 4,
 "nbformat_minor": 2
}
