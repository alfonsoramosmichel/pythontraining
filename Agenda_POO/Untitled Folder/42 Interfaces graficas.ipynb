{
 "cells": [
  {
   "cell_type": "markdown",
   "metadata": {},
   "source": [
    "# Primera interface"
   ]
  },
  {
   "cell_type": "code",
   "execution_count": 16,
   "metadata": {},
   "outputs": [],
   "source": [
    "from tkinter import *\n",
    "\n",
    "raiz=Tk() #raiz para la interfaz\n",
    "raiz.title(\"Ventana de pruebas\")\n",
    "raiz.resizable(False, False) #(ancho, alto) Determina un False(0) para redimensionar\n",
    "raiz.geometry(\"650x350\")\n",
    "raiz.config(bg=\"gray\")\n",
    "raiz.mainloop() #Bucle infinito para estar recargando raiz"
   ]
  }
 ],
 "metadata": {
  "kernelspec": {
   "display_name": "Python 3",
   "language": "python",
   "name": "python3"
  },
  "language_info": {
   "codemirror_mode": {
    "name": "ipython",
    "version": 3
   },
   "file_extension": ".py",
   "mimetype": "text/x-python",
   "name": "python",
   "nbconvert_exporter": "python",
   "pygments_lexer": "ipython3",
   "version": "3.6.3"
  }
 },
 "nbformat": 4,
 "nbformat_minor": 2
}
