{
 "cells": [
  {
   "cell_type": "code",
   "execution_count": 12,
   "metadata": {
    "collapsed": true
   },
   "outputs": [],
   "source": [
    "class Coche():\n",
    "    '''Definición de la clase coche'''\n",
    "    largoChasis=250\n",
    "    anchoChasis=120\n",
    "    ruedas=4\n",
    "    enmarcha=False\n",
    "    \n",
    "    def arrancar(self,arrancamos):\n",
    "        self.enmarcha=arrancamos\n",
    "        if(self.enmarcha):\n",
    "            return \"El coche está en marcha\"\n",
    "        else:\n",
    "            return \"El coche está parado\"\n",
    "        \n",
    "        \n",
    "    def estado(self):\n",
    "        print(\"El coche tiene \", self.ruedas, \"ruedas. Un ancho de \", self.anchoChasis, \"y un largo de \",\n",
    "             self.largoChasis)\n",
    "        \n",
    "miCoche=Coche()\n",
    "miCoche2=Coche()"
   ]
  },
  {
   "cell_type": "code",
   "execution_count": 13,
   "metadata": {},
   "outputs": [
    {
     "name": "stdout",
     "output_type": "stream",
     "text": [
      "El coche tiene  4 ruedas. Un ancho de  120 y un largo de  250\n",
      "El coche tiene  4 ruedas. Un ancho de  120 y un largo de  250\n"
     ]
    },
    {
     "data": {
      "text/plain": [
       "(None, None)"
      ]
     },
     "execution_count": 13,
     "metadata": {},
     "output_type": "execute_result"
    }
   ],
   "source": [
    "miCoche.estado(), miCoche2.estado()"
   ]
  },
  {
   "cell_type": "code",
   "execution_count": 15,
   "metadata": {},
   "outputs": [
    {
     "data": {
      "text/plain": [
       "'El coche está en marcha'"
      ]
     },
     "execution_count": 15,
     "metadata": {},
     "output_type": "execute_result"
    }
   ],
   "source": [
    "miCoche.arrancar(True)"
   ]
  },
  {
   "cell_type": "code",
   "execution_count": 16,
   "metadata": {},
   "outputs": [
    {
     "data": {
      "text/plain": [
       "'El coche está parado'"
      ]
     },
     "execution_count": 16,
     "metadata": {},
     "output_type": "execute_result"
    }
   ],
   "source": [
    "miCoche2.arrancar(False)"
   ]
  },
  {
   "cell_type": "code",
   "execution_count": 19,
   "metadata": {},
   "outputs": [
    {
     "name": "stdout",
     "output_type": "stream",
     "text": [
      "El coche está en marcha\n",
      "El coche tiene  4 ruedas. Un ancho de  120 y un largo de  250\n",
      "-------------------------------------------------\n",
      "El coche está parado\n",
      "El coche tiene  2 ruedas. Un ancho de  120 y un largo de  250\n"
     ]
    }
   ],
   "source": [
    "class Coche():\n",
    "    \n",
    "    def __init__(self):\n",
    "        self.largoChasis=250\n",
    "        self.anchoChasis=120\n",
    "        self.ruedas=4\n",
    "        self.enmarcha=False\n",
    "    \n",
    "    def arrancar(self,arrancamos):\n",
    "        self.enmarcha=arrancamos\n",
    "        if(self.enmarcha):\n",
    "            return \"El coche está en marcha\"\n",
    "        else:\n",
    "            return \"El coche está parado\"\n",
    "        \n",
    "        \n",
    "    def estado(self):\n",
    "        print(\"El coche tiene \", self.ruedas, \"ruedas. Un ancho de \", self.anchoChasis, \"y un largo de \",\n",
    "             self.largoChasis)\n",
    "        \n",
    "miCoche=Coche()\n",
    "print(miCoche.arrancar(True))\n",
    "miCoche.estado()\n",
    "print(\"-------------------------------------------------\")\n",
    "miCoche2=Coche()\n",
    "print(miCoche2.arrancar(False))\n",
    "miCoche2.ruedas=2\n",
    "miCoche2.estado()"
   ]
  },
  {
   "cell_type": "code",
   "execution_count": 25,
   "metadata": {},
   "outputs": [
    {
     "name": "stdout",
     "output_type": "stream",
     "text": [
      "El coche está parado\n",
      "El coche tiene  4 ruedas. Un ancho de  120 y un largo de  250\n",
      "-------------------------------------------------\n",
      "El coche está parado\n",
      "El coche tiene  4 ruedas. Un ancho de  120 y un largo de  250\n"
     ]
    }
   ],
   "source": [
    "class Coche():\n",
    "    \n",
    "    def __init__(self):\n",
    "        self.__largoChasis=250\n",
    "        self.__anchoChasis=120\n",
    "        self.__ruedas=4\n",
    "        self.__enmarcha=False\n",
    "    \n",
    "    def arrancar(self,arrancamos):\n",
    "        self.enmarcha=arrancamos\n",
    "        if(self.__enmarcha):\n",
    "            return \"El coche está en marcha\"\n",
    "        else:\n",
    "            return \"El coche está parado\"\n",
    "        \n",
    "        \n",
    "    def estado(self):\n",
    "        print(\"El coche tiene \", self.__ruedas, \"ruedas. Un ancho de \", self.__anchoChasis, \"y un largo de \",\n",
    "             self.__largoChasis)\n",
    "        \n",
    "miCoche=Coche()\n",
    "print(miCoche.arrancar(True))\n",
    "miCoche.estado()\n",
    "print(\"-------------------------------------------------\")\n",
    "miCoche2=Coche()\n",
    "print(miCoche2.arrancar(False))\n",
    "miCoche2.__ruedas=2\n",
    "miCoche2.estado()"
   ]
  },
  {
   "cell_type": "code",
   "execution_count": 12,
   "metadata": {},
   "outputs": [
    {
     "name": "stdout",
     "output_type": "stream",
     "text": [
      "Realizando chequeo interno\n",
      "El coche está en marcha\n",
      "El coche tiene  4 ruedas. Un ancho de  120 y un largo de  250\n",
      "-------------------------------------------------\n",
      "El coche está parado\n",
      "El coche tiene  4 ruedas. Un ancho de  120 y un largo de  250\n"
     ]
    }
   ],
   "source": [
    "class Coche():\n",
    "    \n",
    "    def __init__(self):\n",
    "        self.__largoChasis=250\n",
    "        self.__anchoChasis=120\n",
    "        self.__ruedas=4\n",
    "        self.__enmarcha=False\n",
    "    \n",
    "    def arrancar(self,arrancamos):\n",
    "        self.__enmarcha=arrancamos\n",
    "        if(self.__enmarcha):\n",
    "            chequeo=self.__chequeo_interno()\n",
    "        if(self.__enmarcha and chequeo):\n",
    "            return \"El coche está en marcha\"\n",
    "        elif(self.__enmarcha and chequeo==False):\n",
    "            return \"El chequeo lanza problemas\"\n",
    "        else:\n",
    "            return \"El coche está parado\"\n",
    "        \n",
    "        \n",
    "    def estado(self):\n",
    "        print(\"El coche tiene \", self.__ruedas, \"ruedas. Un ancho de \", self.__anchoChasis, \"y un largo de \",\n",
    "             self.__largoChasis)\n",
    "    \n",
    "    def __chequeo_interno(self):\n",
    "        print(\"Realizando chequeo interno\")\n",
    "        self.gasolina=\"ok\"\n",
    "        self.aceite=\"ok\"\n",
    "        self.puertas=\"cerradas\"\n",
    "        if (self.gasolina==\"ok\" and self.aceite==\"ok\" and self.puertas==\"cerradas\"):\n",
    "            return True\n",
    "        else:\n",
    "            return False\n",
    "    \n",
    "    \n",
    "miCoche=Coche()\n",
    "print(miCoche.arrancar(True))\n",
    "miCoche.estado()\n",
    "print(\"-------------------------------------------------\")\n",
    "miCoche2=Coche()\n",
    "print(miCoche2.arrancar(False))\n",
    "miCoche2.__ruedas=2\n",
    "miCoche2.estado()"
   ]
  }
 ],
 "metadata": {
  "kernelspec": {
   "display_name": "Python 3",
   "language": "python",
   "name": "python3"
  },
  "language_info": {
   "codemirror_mode": {
    "name": "ipython",
    "version": 3
   },
   "file_extension": ".py",
   "mimetype": "text/x-python",
   "name": "python",
   "nbconvert_exporter": "python",
   "pygments_lexer": "ipython3",
   "version": "3.6.3"
  }
 },
 "nbformat": 4,
 "nbformat_minor": 2
}
