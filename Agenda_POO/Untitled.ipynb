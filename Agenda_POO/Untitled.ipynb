{
 "cells": [
  {
   "cell_type": "markdown",
   "metadata": {},
   "source": [
    "## Estructura de datos - Lista"
   ]
  },
  {
   "cell_type": "code",
   "execution_count": null,
   "metadata": {
    "collapsed": true
   },
   "outputs": [],
   "source": [
    "class Nodo:\n",
    "    def __init__(self):\n",
    "        self.nombre = None\n",
    "        self.edad = 0\n",
    "        self.siguiente = None\n",
    "\n",
    "class Lista:\n",
    "    \n",
    "    def __init__(self):\n",
    "        raiz = Nodo()\n",
    "    \n",
    "    def insertar(self,nodo):\n",
    "        if self.raiz.nombre == None:\n",
    "            self.raiz = nodo\n",
    "        else:\n",
    "            bandera = True\n",
    "            aux = self.raiz\n",
    "            while True:\n",
    "                if aux.siguiente == None:\n",
    "                    aux.siguiente == nodo\n",
    "                    break\n",
    "                else:\n",
    "                    aux = aux.siguiente\n",
    "    \n",
    "    def consultar(self):\n",
    "        aux = self.raiz\n",
    "        if aux.nombre == None:\n",
    "            print(\"Lista vacía\")\n",
    "        else:\n",
    "            print(aux.nombre)\n",
    "            print(aux.edad)\n",
    "            while aux.siguiente != None:\n",
    "                auux = aux.siguiente\n",
    "                print(aux.nombre)\n",
    "                print(aux.edad)\n",
    "    \n",
    "    \n",
    "class Principal:\n",
    "    while True:\n",
    "        lista = Lista()\n",
    "        print(\"***Menú***\")\n",
    "        print(\"1.- Insertar\")\n",
    "        print(\"2.- Consultar\")\n",
    "        print(\"3.- Salir\")\n",
    "        try:\n",
    "            opcion = input(\"Elige tu opción: \")\n",
    "            if opcion == 1:\n",
    "                nodo = nodo()\n",
    "                nodo.nombre = input(\"Escribir tu nombre: \")\n",
    "                nodo.edad = input(\"Escribe tu edad: \")\n",
    "                lista.insertar(nodo)\n",
    "            elif opcion == 2:\n",
    "                lista.consultar()\n",
    "            elif opcion == 3:\n",
    "                break\n",
    "        except:\n",
    "            print(\"Ocurrió un error\")"
   ]
  }
 ],
 "metadata": {
  "kernelspec": {
   "display_name": "Python 3",
   "language": "python",
   "name": "python3"
  },
  "language_info": {
   "codemirror_mode": {
    "name": "ipython",
    "version": 3
   },
   "file_extension": ".py",
   "mimetype": "text/x-python",
   "name": "python",
   "nbconvert_exporter": "python",
   "pygments_lexer": "ipython3",
   "version": "3.6.3"
  }
 },
 "nbformat": 4,
 "nbformat_minor": 2
}
