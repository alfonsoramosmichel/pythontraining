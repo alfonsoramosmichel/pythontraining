{
 "cells": [
  {
   "cell_type": "code",
   "execution_count": 39,
   "metadata": {
    "collapsed": true
   },
   "outputs": [],
   "source": [
    "#Clase electrodoméstico\n",
    "class electrodomestico:\n",
    "    \n",
    "    def __init__(self, nombre):\n",
    "        self.nombre=nombre\n",
    "        self.estado = False\n",
    "    \n",
    "    def encender(self):\n",
    "        if(self.estado==False):\n",
    "            self.estado=True\n",
    "            print(\"Se ha encendido\"+self.nombre)\n",
    "        else:\n",
    "            print(\"El electrodoméstico ya estaba encendido\")\n",
    "    \n",
    "    def apagar(self):\n",
    "        if(self.estado==True):\n",
    "            self.estado=False\n",
    "            print(\"Se ha apagado\"+self.nombre)\n",
    "        else:\n",
    "            print(\"El electrodoméstico ya estaba apagado\")\n",
    "\n",
    "class telefono:\n",
    "    \n",
    "    def llamar(self):\n",
    "        print(\"Llamando\")\n",
    "    \n",
    "    def colgar(self):\n",
    "        print(\"Llamada finalizada\")"
   ]
  },
  {
   "cell_type": "code",
   "execution_count": 40,
   "metadata": {},
   "outputs": [],
   "source": [
    "class celular(electrodomestico, telefono):\n",
    "    \n",
    "    def mandar_mensaje(self):\n",
    "        if self.estado == True:\n",
    "            print(\"Llamando\")\n",
    "\n",
    "class television(electrodomestico):\n",
    "    \n",
    "    def cambiar_canal(self):\n",
    "        if self.estado == True:\n",
    "            print(\"Cambiando canal\")"
   ]
  },
  {
   "cell_type": "code",
   "execution_count": 41,
   "metadata": {
    "collapsed": true
   },
   "outputs": [],
   "source": [
    "cel = celular(\"Celular\")"
   ]
  },
  {
   "cell_type": "code",
   "execution_count": 42,
   "metadata": {},
   "outputs": [
    {
     "name": "stdout",
     "output_type": "stream",
     "text": [
      "Se ha encendidoCelular\n"
     ]
    }
   ],
   "source": [
    "cel.encender()"
   ]
  },
  {
   "cell_type": "code",
   "execution_count": 43,
   "metadata": {},
   "outputs": [
    {
     "name": "stdout",
     "output_type": "stream",
     "text": [
      "Llamando\n"
     ]
    }
   ],
   "source": [
    "cel.mandar_mensaje()"
   ]
  },
  {
   "cell_type": "code",
   "execution_count": 44,
   "metadata": {},
   "outputs": [
    {
     "name": "stdout",
     "output_type": "stream",
     "text": [
      "Llamando\n"
     ]
    }
   ],
   "source": [
    "cel.llamar()"
   ]
  },
  {
   "cell_type": "code",
   "execution_count": 45,
   "metadata": {},
   "outputs": [
    {
     "name": "stdout",
     "output_type": "stream",
     "text": [
      "Llamada finalizada\n"
     ]
    }
   ],
   "source": [
    "cel.colgar()"
   ]
  },
  {
   "cell_type": "code",
   "execution_count": 33,
   "metadata": {},
   "outputs": [
    {
     "name": "stdout",
     "output_type": "stream",
     "text": [
      "Se ha apagadoCelular\n"
     ]
    }
   ],
   "source": [
    "cel.apagar()"
   ]
  },
  {
   "cell_type": "code",
   "execution_count": 34,
   "metadata": {
    "collapsed": true
   },
   "outputs": [],
   "source": [
    "tele = television(\"Television\")"
   ]
  },
  {
   "cell_type": "code",
   "execution_count": 35,
   "metadata": {},
   "outputs": [
    {
     "name": "stdout",
     "output_type": "stream",
     "text": [
      "Se ha encendidoTelevision\n"
     ]
    }
   ],
   "source": [
    "tele.encender()"
   ]
  },
  {
   "cell_type": "code",
   "execution_count": 36,
   "metadata": {},
   "outputs": [
    {
     "name": "stdout",
     "output_type": "stream",
     "text": [
      "Cambiando canal\n"
     ]
    }
   ],
   "source": [
    "tele.cambiar_canal()"
   ]
  },
  {
   "cell_type": "code",
   "execution_count": 37,
   "metadata": {},
   "outputs": [
    {
     "name": "stdout",
     "output_type": "stream",
     "text": [
      "Se ha apagadoTelevision\n"
     ]
    }
   ],
   "source": [
    "tele.apagar()"
   ]
  },
  {
   "cell_type": "code",
   "execution_count": 38,
   "metadata": {
    "collapsed": true
   },
   "outputs": [],
   "source": [
    "tele.cambiar_canal()"
   ]
  }
 ],
 "metadata": {
  "kernelspec": {
   "display_name": "Python 3",
   "language": "python",
   "name": "python3"
  },
  "language_info": {
   "codemirror_mode": {
    "name": "ipython",
    "version": 3
   },
   "file_extension": ".py",
   "mimetype": "text/x-python",
   "name": "python",
   "nbconvert_exporter": "python",
   "pygments_lexer": "ipython3",
   "version": "3.6.3"
  }
 },
 "nbformat": 4,
 "nbformat_minor": 2
}
