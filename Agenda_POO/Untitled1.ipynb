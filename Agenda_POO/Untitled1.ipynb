{
 "cells": [
  {
   "cell_type": "code",
   "execution_count": 1,
   "metadata": {
    "collapsed": true
   },
   "outputs": [],
   "source": [
    "import os\n",
    "\n",
    "class Archivo:\n",
    "    \n",
    "    def __init__(self):\n",
    "        self.lista = []\n",
    "    \n",
    "    def iniciarArchivo(self):\n",
    "        archivo = open(\"a.txt\", \"a\")\n",
    "        archivo.close()\n",
    "\n",
    "archivo=Archivo()\n",
    "archivo.iniciarArchivo()\n",
    "while True:\n",
    "    os.system('cls')\n",
    "    print(\"1 Escribir contacto\")\n",
    "    print(\"2 Leer contacto\")\n",
    "    print "
   ]
  },
  {
   "cell_type": "code",
   "execution_count": 2,
   "metadata": {
    "collapsed": true
   },
   "outputs": [],
   "source": []
  },
  {
   "cell_type": "code",
   "execution_count": 3,
   "metadata": {
    "collapsed": true
   },
   "outputs": [],
   "source": []
  }
 ],
 "metadata": {
  "kernelspec": {
   "display_name": "Python 3",
   "language": "python",
   "name": "python3"
  },
  "language_info": {
   "codemirror_mode": {
    "name": "ipython",
    "version": 3
   },
   "file_extension": ".py",
   "mimetype": "text/x-python",
   "name": "python",
   "nbconvert_exporter": "python",
   "pygments_lexer": "ipython3",
   "version": "3.6.3"
  }
 },
 "nbformat": 4,
 "nbformat_minor": 2
}
