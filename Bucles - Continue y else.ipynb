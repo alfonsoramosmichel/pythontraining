{
 "cells": [
  {
   "cell_type": "markdown",
   "metadata": {},
   "source": [
    "# Continue y else"
   ]
  },
  {
   "cell_type": "code",
   "execution_count": 1,
   "metadata": {},
   "outputs": [
    {
     "name": "stdout",
     "output_type": "stream",
     "text": [
      "Viendo la letra: p\n",
      "Viendo la letra: y\n",
      "Viendo la letra: t\n",
      "Viendo la letra: h\n",
      "Viendo la letra: o\n",
      "Viendo la letra: n\n"
     ]
    }
   ],
   "source": [
    "for letra in \"python\":\n",
    "    print(\"Viendo la letra: \" + letra)"
   ]
  },
  {
   "cell_type": "markdown",
   "metadata": {},
   "source": [
    "## Continue"
   ]
  },
  {
   "cell_type": "code",
   "execution_count": 2,
   "metadata": {},
   "outputs": [
    {
     "name": "stdout",
     "output_type": "stream",
     "text": [
      "Viendo la letra: p\n",
      "Viendo la letra: y\n",
      "Viendo la letra: t\n",
      "Viendo la letra: o\n",
      "Viendo la letra: n\n"
     ]
    }
   ],
   "source": [
    "for letra in \"python\":\n",
    "    if letra == \"h\":\n",
    "        continue\n",
    "    print(\"Viendo la letra: \" + letra)"
   ]
  },
  {
   "cell_type": "markdown",
   "metadata": {},
   "source": [
    "### Ejemplo de aplicación"
   ]
  },
  {
   "cell_type": "code",
   "execution_count": 3,
   "metadata": {},
   "outputs": [
    {
     "name": "stdout",
     "output_type": "stream",
     "text": [
      "21\n"
     ]
    }
   ],
   "source": [
    "nombre = \"pildoras informaticas\"\n",
    "print(len(nombre))"
   ]
  },
  {
   "cell_type": "code",
   "execution_count": 4,
   "metadata": {},
   "outputs": [
    {
     "name": "stdout",
     "output_type": "stream",
     "text": [
      "21\n"
     ]
    }
   ],
   "source": [
    "contador = 0\n",
    "for i in nombre:\n",
    "    contador+=1\n",
    "print(contador)"
   ]
  },
  {
   "cell_type": "markdown",
   "metadata": {},
   "source": [
    "Ignorando el espacio"
   ]
  },
  {
   "cell_type": "code",
   "execution_count": 5,
   "metadata": {},
   "outputs": [
    {
     "name": "stdout",
     "output_type": "stream",
     "text": [
      "20\n"
     ]
    }
   ],
   "source": [
    "contador = 0\n",
    "for i in nombre:\n",
    "    if i==\" \":\n",
    "        continue\n",
    "    contador+=1\n",
    "print(contador)"
   ]
  },
  {
   "cell_type": "markdown",
   "metadata": {},
   "source": [
    "## Else"
   ]
  },
  {
   "cell_type": "code",
   "execution_count": 7,
   "metadata": {},
   "outputs": [
    {
     "name": "stdout",
     "output_type": "stream",
     "text": [
      "Introduce tu email: mioamail.com\n",
      "False\n"
     ]
    }
   ],
   "source": [
    "email = input(\"Introduce tu email: \")\n",
    "\n",
    "for i in email:\n",
    "    if i == \"@\":\n",
    "        arroba = True\n",
    "        break;\n",
    "else:\n",
    "    arroba = False\n",
    "print(arroba)"
   ]
  }
 ],
 "metadata": {
  "kernelspec": {
   "display_name": "Python 3",
   "language": "python",
   "name": "python3"
  },
  "language_info": {
   "codemirror_mode": {
    "name": "ipython",
    "version": 3
   },
   "file_extension": ".py",
   "mimetype": "text/x-python",
   "name": "python",
   "nbconvert_exporter": "python",
   "pygments_lexer": "ipython3",
   "version": "3.6.3"
  }
 },
 "nbformat": 4,
 "nbformat_minor": 2
}
