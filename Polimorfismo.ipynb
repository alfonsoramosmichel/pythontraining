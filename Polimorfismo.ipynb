{
 "cells": [
  {
   "cell_type": "markdown",
   "metadata": {},
   "source": [
    "# Polimorfismo"
   ]
  },
  {
   "cell_type": "code",
   "execution_count": 3,
   "metadata": {},
   "outputs": [
    {
     "name": "stdout",
     "output_type": "stream",
     "text": [
      "Me desplazo utilizando dos ruedas\n",
      "Me desplazo utilizando cuatro ruedas\n",
      "Me desplazo utilizando seis ruedas\n"
     ]
    }
   ],
   "source": [
    "class Coche():\n",
    "    def desplazamiento(self):\n",
    "        print(\"Me desplazo utilizando cuatro ruedas\")\n",
    "        \n",
    "class Moto():\n",
    "    def desplazamiento(self):\n",
    "        print(\"Me desplazo utilizando dos ruedas\")\n",
    "        \n",
    "class Camion():\n",
    "    def desplazamiento(self):\n",
    "        print(\"Me desplazo utilizando seis ruedas\")\n",
    "    \n",
    "miVehiculo=Moto()\n",
    "miVehiculo.desplazamiento()\n",
    "miVehiculo2=Coche()\n",
    "miVehiculo2.desplazamiento()\n",
    "miVehiculo3=Camion()\n",
    "miVehiculo3.desplazamiento()"
   ]
  },
  {
   "cell_type": "code",
   "execution_count": 7,
   "metadata": {},
   "outputs": [
    {
     "name": "stdout",
     "output_type": "stream",
     "text": [
      "Me desplazo utilizando cuatro ruedas\n"
     ]
    }
   ],
   "source": [
    "class Coche():\n",
    "    def desplazamiento(self):\n",
    "        print(\"Me desplazo utilizando cuatro ruedas\")\n",
    "        \n",
    "class Moto():\n",
    "    def desplazamiento(self):\n",
    "        print(\"Me desplazo utilizando dos ruedas\")\n",
    "        \n",
    "class Camion():\n",
    "    def desplazamiento(self):\n",
    "        print(\"Me desplazo utilizando seis ruedas\")\n",
    "    \n",
    "def desplazamientoVehiculo(vehiculo):\n",
    "    vehiculo.desplazamiento()\n",
    "\n",
    "miv=Coche()\n",
    "desplazamientoVehiculo(miv)"
   ]
  }
 ],
 "metadata": {
  "kernelspec": {
   "display_name": "Python 3",
   "language": "python",
   "name": "python3"
  },
  "language_info": {
   "codemirror_mode": {
    "name": "ipython",
    "version": 3
   },
   "file_extension": ".py",
   "mimetype": "text/x-python",
   "name": "python",
   "nbconvert_exporter": "python",
   "pygments_lexer": "ipython3",
   "version": "3.5.3"
  }
 },
 "nbformat": 4,
 "nbformat_minor": 2
}
