{
 "cells": [
  {
   "cell_type": "code",
   "execution_count": 4,
   "metadata": {},
   "outputs": [],
   "source": [
    "from io import *\n",
    "\n",
    "file = open(\"archivo.txt\", \"w\")\n",
    "frase=\"lkasdjf lisaejf laksdjf lasiejfl aksdnfl siejflksdjflisaejf asdnf sief\\n laskdjfl siejf laksdjf lsiejf\\n kjsd fijself jsdlfija\"\n",
    "file.write(frase)\n",
    "file.close()"
   ]
  },
  {
   "cell_type": "code",
   "execution_count": 5,
   "metadata": {},
   "outputs": [
    {
     "name": "stdout",
     "output_type": "stream",
     "text": [
      "lkasdjf lisaejf laksdjf lasiejfl aksdnfl siejflksdjflisaejf asdnf sief\n",
      " laskdjfl siejf laksdjf lsiejf\n",
      " kjsd fijself jsdlfija\n"
     ]
    }
   ],
   "source": [
    "from io import *\n",
    "\n",
    "file = open(\"archivo.txt\", \"r\")\n",
    "texto = file.read()\n",
    "file.close()\n",
    "print(texto)"
   ]
  },
  {
   "cell_type": "code",
   "execution_count": 6,
   "metadata": {},
   "outputs": [
    {
     "name": "stdout",
     "output_type": "stream",
     "text": [
      "['lkasdjf lisaejf laksdjf lasiejfl aksdnfl siejflksdjflisaejf asdnf sief\\n', ' laskdjfl siejf laksdjf lsiejf\\n', ' kjsd fijself jsdlfija']\n"
     ]
    }
   ],
   "source": [
    "from io import *\n",
    "\n",
    "file = open(\"archivo.txt\", \"r\")\n",
    "lineas_texto = file.readlines()\n",
    "file.close()\n",
    "print(lineas_texto)"
   ]
  },
  {
   "cell_type": "code",
   "execution_count": 8,
   "metadata": {},
   "outputs": [
    {
     "name": "stdout",
     "output_type": "stream",
     "text": [
      " laskdjfl siejf laksdjf lsiejf\n",
      "\n"
     ]
    }
   ],
   "source": [
    "from io import *\n",
    "\n",
    "file = open(\"archivo.txt\", \"r\")\n",
    "lineas_texto = file.readlines()\n",
    "file.close()\n",
    "print(lineas_texto[1])"
   ]
  },
  {
   "cell_type": "code",
   "execution_count": 9,
   "metadata": {},
   "outputs": [],
   "source": [
    "from io import *\n",
    "\n",
    "file = open(\"archivo.txt\", \"a\") #a para append, agregar información\n",
    "file.write(\"\\n nuevo texto introducido\")\n",
    "file.close()"
   ]
  },
  {
   "cell_type": "code",
   "execution_count": 18,
   "metadata": {},
   "outputs": [
    {
     "name": "stdout",
     "output_type": "stream",
     "text": [
      "lkasdjf lisaejf laksdjf lasiejfl aksdnfl siejflksdjflisaejf asdnf sief\n",
      " laskdjfl siejf laksdjf lsiejf\n",
      " kjsd fijself jsdlfija\n",
      " nuevo texto introducido\n",
      "\n",
      " laskdjfl siejf laksdjf lsiejf\n",
      " kjsd fijself jsdlfija\n",
      " nuevo texto introducido\n"
     ]
    }
   ],
   "source": [
    "from io import *\n",
    "\n",
    "file = open(\"archivo.txt\", \"r\")\n",
    "texto=file.read()\n",
    "print(texto)\n",
    "file.seek(70)\n",
    "print(file.read())\n",
    "file.close()"
   ]
  },
  {
   "cell_type": "code",
   "execution_count": 23,
   "metadata": {},
   "outputs": [],
   "source": [
    "file=open(\"archivo.txt\", \"r+\")\n",
    "#print(file.readlines())\n",
    "lista_texto=file.readlines()\n",
    "lista_texto[2]=\"Esta línea ha sido incluida\\n\"\n",
    "file.seek(0)\n",
    "file.writelines(lista_texto)\n",
    "file.close()"
   ]
  }
 ],
 "metadata": {
  "kernelspec": {
   "display_name": "Python 3",
   "language": "python",
   "name": "python3"
  },
  "language_info": {
   "codemirror_mode": {
    "name": "ipython",
    "version": 3
   },
   "file_extension": ".py",
   "mimetype": "text/x-python",
   "name": "python",
   "nbconvert_exporter": "python",
   "pygments_lexer": "ipython3",
   "version": "3.5.3"
  }
 },
 "nbformat": 4,
 "nbformat_minor": 2
}
