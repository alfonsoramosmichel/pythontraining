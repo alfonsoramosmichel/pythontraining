{
 "cells": [
  {
   "cell_type": "markdown",
   "metadata": {},
   "source": [
    "# Índice <a name=\"indice\"></a>\n",
    "\n",
    "1. [Entero](#entero)\n",
    "1. [Flotante](#flotante)\n",
    "1. [Complejo](#complejo)\n",
    "1. [Booleano](#booleano)\n",
    "1. [Operaciones]\n",
    "    1. [Aritmética](#aritmetica)\n",
    "    1. [Lógica combinacional](#logica)"
   ]
  },
  {
   "cell_type": "markdown",
   "metadata": {},
   "source": [
    "# Entero <a name=\"entero\"></a>"
   ]
  },
  {
   "cell_type": "markdown",
   "metadata": {},
   "source": [
    "Se consideran como enteros, todos los tipos númericos que representan a los número naturales, sus complementos negativos y el cero. Se incluyen, no solo la base decimal, sino también, binario, octal, hexadecimal.\n",
    "\n",
    "Se puede saber el tipo de dato que se esta utilizando con una función: *type()*\n",
    "```python\n",
    "In []: type(3)\n",
    "\n",
    "In []: type(0)\n",
    "\n",
    "In []: type(-6)\n",
    "```\n",
    "Podemos declarar valores enteros no solo en formato decimal. Los formatos binario, octal y hexadecimal se declaran antenponiendo un cero ($0$) y una letra: $b$ para binario, $o$ para octal y $x$ para hexadecimal.\n",
    "```python\n",
    "In []: type(0b11001)\n",
    "\n",
    "In []: type(0o17)\n",
    "\n",
    "In []: type(0xA1)\n",
    "```\n",
    "Cuando tecleamos directamente el valor de un entero en cualquier sistema no decimal, nos arrojará automáticamente su equivalente decimal\n",
    "```python\n",
    "In []: 0b100101\n",
    "\n",
    "In []: 0o672\n",
    "\n",
    "In []: 0x6A3f\n",
    "```"
   ]
  },
  {
   "cell_type": "markdown",
   "metadata": {},
   "source": [
    "# Flotante <a name=\"flotante\"></a>"
   ]
  },
  {
   "cell_type": "markdown",
   "metadata": {},
   "source": [
    "El tipo flotante, hace referencia a los números que son acompañados por un punto decimal y son capaces de representar enteros más una parte fraccionaria.\n",
    "Podemos saber cuando un número es fraccionario utilizando de nuevo la función *type()*. Por ejemplo:\n",
    "```python\n",
    "In []: type(5.4)\n",
    "    \n",
    "In []: type(1.1)\n",
    "\n",
    "In []: type(273.0)\n",
    "```\n",
    "**Podemos convertir número enteros a flotantes mediante la función *float()*.**\n",
    "```python\n",
    "In []: float(5)\n",
    "```\n",
    "**Con la función *int()* podemos convertir un flotante a entero. Lo que hará esta función es básicamente eliminar la parte fraccionaria.**\n",
    "```python\n",
    "In []: int(5.9)\n",
    "```\n",
    "**Cuando realizamos operaciones con una combinación de números enteros y flotantes, Python automáticamente toma el resultados como un número flotante, a menos que le indiquemos otra cosa.**\n",
    "```python\n",
    "In []: 23 + 2.8\n",
    "\n",
    "In []: int(23 + 2.8)\n",
    "```"
   ]
  },
  {
   "cell_type": "code",
   "execution_count": 19,
   "metadata": {},
   "outputs": [
    {
     "data": {
      "text/plain": [
       "5.0"
      ]
     },
     "execution_count": 19,
     "metadata": {},
     "output_type": "execute_result"
    }
   ],
   "source": [
    "float() + 5"
   ]
  },
  {
   "cell_type": "markdown",
   "metadata": {},
   "source": [
    "# Complejo <a name=\"complejo\"></a>"
   ]
  },
  {
   "cell_type": "markdown",
   "metadata": {},
   "source": [
    "Python, también puede manejar datos numéricos complejos, que son números con una parte real y una imaginaria.\n",
    "```python\n",
    "In []: type(2+4j)\n",
    "```\n",
    "Para que un dato sea declarado de manera correcta como número complejo, es necesario introducir por lo menos la parte imaginaria. Si esta es nula, se declara con un $0$.\n",
    "```python\n",
    "In []: type(0-2j)\n",
    "\n",
    "In []: type(8+0j)\n",
    "\n",
    "In []: type(9j)\n",
    "```\n",
    "Los números complejos en *Python*, también pueden tener sus partes reales o imaginarias como valores flotantes\n",
    "```python\n",
    "In []: type(3.5+4.3j)\n",
    "```"
   ]
  },
  {
   "cell_type": "markdown",
   "metadata": {},
   "source": [
    "# Booleano <a name=\"booleano\"></a>"
   ]
  },
  {
   "cell_type": "markdown",
   "metadata": {},
   "source": [
    "Los datos booleanos, son a aquellos que solo presentan dos estados posibles: $True$ y $False$.\n",
    "```python\n",
    "In []: type(True)\n",
    "\n",
    "In []: type(False)\n",
    "```\n",
    "Los datos booleanos, en realidad son una subclase de los datos *Enteros*, como se puede observar si se le pregunta al sistema mediante la función que *Python* reserva para ello\n",
    "```python\n",
    "In []: issubclass(bool, int)\n",
    "```\n",
    "Debido a esto, python puede interpretar o convertir $True$ en $1$ y $False$ en $0$"
   ]
  },
  {
   "cell_type": "markdown",
   "metadata": {},
   "source": [
    "# Operaciones\n",
    "## Aritmética <a name=\"aritmetica\"></a>"
   ]
  },
  {
   "cell_type": "markdown",
   "metadata": {},
   "source": [
    "## Lógica combinacional <a name=\"logica\"></a>"
   ]
  }
 ],
 "metadata": {
  "kernelspec": {
   "display_name": "Python 3",
   "language": "python",
   "name": "python3"
  },
  "language_info": {
   "codemirror_mode": {
    "name": "ipython",
    "version": 3
   },
   "file_extension": ".py",
   "mimetype": "text/x-python",
   "name": "python",
   "nbconvert_exporter": "python",
   "pygments_lexer": "ipython3",
   "version": "3.6.3"
  }
 },
 "nbformat": 4,
 "nbformat_minor": 2
}
