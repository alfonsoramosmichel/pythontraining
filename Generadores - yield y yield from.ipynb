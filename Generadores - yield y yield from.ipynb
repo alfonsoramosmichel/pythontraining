{
 "cells": [
  {
   "cell_type": "markdown",
   "metadata": {},
   "source": [
    "# Generadores"
   ]
  },
  {
   "cell_type": "markdown",
   "metadata": {},
   "source": [
    "Función tradicional"
   ]
  },
  {
   "cell_type": "code",
   "execution_count": 1,
   "metadata": {
    "collapsed": true
   },
   "outputs": [],
   "source": [
    "def generaPares(limite):\n",
    "    num=1\n",
    "    milista=[]\n",
    "    while num<limite:\n",
    "        milista.append(num*2)\n",
    "        num+=1\n",
    "    return milista"
   ]
  },
  {
   "cell_type": "code",
   "execution_count": 2,
   "metadata": {},
   "outputs": [
    {
     "name": "stdout",
     "output_type": "stream",
     "text": [
      "[2, 4, 6, 8, 10, 12, 14, 16, 18]\n"
     ]
    }
   ],
   "source": [
    "print(generaPares(10))"
   ]
  },
  {
   "cell_type": "markdown",
   "metadata": {},
   "source": [
    "Generador"
   ]
  },
  {
   "cell_type": "code",
   "execution_count": 3,
   "metadata": {},
   "outputs": [
    {
     "name": "stdout",
     "output_type": "stream",
     "text": [
      "2\n",
      "4\n",
      "6\n",
      "8\n",
      "10\n",
      "12\n",
      "14\n",
      "16\n",
      "18\n"
     ]
    }
   ],
   "source": [
    "def generaPares(limite):\n",
    "    num=1\n",
    "    while num<limite:\n",
    "        yield num*2\n",
    "        num+=1\n",
    "devuelvePares=generaPares(10)\n",
    "for i in devuelvePares:\n",
    "    print(i)"
   ]
  },
  {
   "cell_type": "code",
   "execution_count": 7,
   "metadata": {},
   "outputs": [
    {
     "name": "stdout",
     "output_type": "stream",
     "text": [
      "2\n",
      "aquí podría mas codigo\n",
      "4\n",
      "aquí podría mas codigo\n",
      "6\n",
      "aquí podría mas codigo\n",
      "8\n"
     ]
    }
   ],
   "source": [
    "def generaPares(limite):\n",
    "    num=1\n",
    "    while num<limite:\n",
    "        yield num*2\n",
    "        num+=1\n",
    "devuelvePares=generaPares(10)\n",
    "\n",
    "print(next(devuelvePares))\n",
    "print(\"aquí podría mas codigo\")\n",
    "print(next(devuelvePares))\n",
    "print(\"aquí podría mas codigo\")\n",
    "print(next(devuelvePares))\n",
    "print(\"aquí podría mas codigo\")\n",
    "print(next(devuelvePares))"
   ]
  },
  {
   "cell_type": "markdown",
   "metadata": {},
   "source": [
    "## Yield from"
   ]
  },
  {
   "cell_type": "code",
   "execution_count": 9,
   "metadata": {},
   "outputs": [
    {
     "name": "stdout",
     "output_type": "stream",
     "text": [
      "Madrid\n",
      "Barcelona\n"
     ]
    }
   ],
   "source": [
    "def devuelve_ciudades(*ciudades):\n",
    "    for elemento in ciudades:\n",
    "        yield elemento\n",
    "\n",
    "ciudades_devueltas=devuelve_ciudades(\"Madrid\", \"Barcelona\", \"Bilbao\", \"Valencia\")\n",
    "\n",
    "print(next(ciudades_devueltas))\n",
    "print(next(ciudades_devueltas))"
   ]
  },
  {
   "cell_type": "markdown",
   "metadata": {},
   "source": [
    "Accediendo a cada subelemento o caracter de la cadena"
   ]
  },
  {
   "cell_type": "code",
   "execution_count": 10,
   "metadata": {},
   "outputs": [
    {
     "name": "stdout",
     "output_type": "stream",
     "text": [
      "M\n",
      "a\n"
     ]
    }
   ],
   "source": [
    "def devuelve_ciudades(*ciudades):\n",
    "    for elemento in ciudades:\n",
    "        for subElemento in elemento:\n",
    "            yield subElemento\n",
    "\n",
    "ciudades_devueltas=devuelve_ciudades(\"Madrid\", \"Barcelona\", \"Bilbao\", \"Valencia\")\n",
    "\n",
    "print(next(ciudades_devueltas))\n",
    "print(next(ciudades_devueltas))"
   ]
  },
  {
   "cell_type": "code",
   "execution_count": 12,
   "metadata": {},
   "outputs": [
    {
     "name": "stdout",
     "output_type": "stream",
     "text": [
      "M\n",
      "a\n"
     ]
    }
   ],
   "source": [
    "def devuelve_ciudades(*ciudades):\n",
    "    for elemento in ciudades:\n",
    "        yield from elemento\n",
    "\n",
    "ciudades_devueltas=devuelve_ciudades(\"Madrid\", \"Barcelona\", \"Bilbao\", \"Valencia\")\n",
    "\n",
    "print(next(ciudades_devueltas))\n",
    "print(next(ciudades_devueltas))"
   ]
  }
 ],
 "metadata": {
  "kernelspec": {
   "display_name": "Python 3",
   "language": "python",
   "name": "python3"
  },
  "language_info": {
   "codemirror_mode": {
    "name": "ipython",
    "version": 3
   },
   "file_extension": ".py",
   "mimetype": "text/x-python",
   "name": "python",
   "nbconvert_exporter": "python",
   "pygments_lexer": "ipython3",
   "version": "3.6.3"
  }
 },
 "nbformat": 4,
 "nbformat_minor": 2
}
