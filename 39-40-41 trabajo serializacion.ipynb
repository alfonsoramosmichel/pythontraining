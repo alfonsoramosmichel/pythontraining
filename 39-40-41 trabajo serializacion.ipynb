{
 "cells": [
  {
   "cell_type": "code",
   "execution_count": 5,
   "metadata": {},
   "outputs": [],
   "source": [
    "import pickle\n",
    "\n",
    "lista_nombre=[\"Pdro\", \"Ana\", \"María\", \"Isabel\"]\n",
    "\n",
    "fichero_binario=open(\"lista_nombres\", \"wb\")\n",
    "pickle.dump(lista_nombre, fichero_binario)\n",
    "fichero_binario.close()\n",
    "del(fichero_binario)"
   ]
  },
  {
   "cell_type": "code",
   "execution_count": 7,
   "metadata": {},
   "outputs": [
    {
     "name": "stdout",
     "output_type": "stream",
     "text": [
      "['Pdro', 'Ana', 'María', 'Isabel']\n"
     ]
    }
   ],
   "source": [
    "import pickle\n",
    "\n",
    "fichero=open(\"lista_nombres\", \"rb\")\n",
    "lista=pickle.load(fichero)\n",
    "print(lista)\n",
    "fichero.close()\n",
    "del(fichero)"
   ]
  },
  {
   "cell_type": "code",
   "execution_count": 14,
   "metadata": {},
   "outputs": [
    {
     "name": "stdout",
     "output_type": "stream",
     "text": [
      "Marca:  Mazda \n",
      "Modelo:  MX5 \n",
      "En marcha:  False \n",
      "Acelerando:  False \n",
      "Frenado:  False\n",
      "None\n",
      "Marca:  Seat \n",
      "Modelo:  Leon \n",
      "En marcha:  False \n",
      "Acelerando:  False \n",
      "Frenado:  False\n",
      "None\n",
      "Marca:  Nissan \n",
      "Modelo:  Sentra \n",
      "En marcha:  False \n",
      "Acelerando:  False \n",
      "Frenado:  False\n",
      "None\n"
     ]
    },
    {
     "data": {
      "text/plain": [
       "[None, None, None]"
      ]
     },
     "execution_count": 14,
     "metadata": {},
     "output_type": "execute_result"
    }
   ],
   "source": [
    "import pickle\n",
    "class Vehiculos():\n",
    "    \n",
    "    def __init__(self, marca, modelo):\n",
    "        self.marca=marca\n",
    "        self.modelo=modelo\n",
    "        self.enmarcha=False\n",
    "        self.acelera=False\n",
    "        self.frena=False\n",
    "        \n",
    "    def arrancar(self):\n",
    "        self.enmarcha=True\n",
    "        \n",
    "    def acelerar(self):\n",
    "        self.acelera=True\n",
    "        \n",
    "    def frenar(self):\n",
    "        self.frena=True\n",
    "        \n",
    "    def estado(self):\n",
    "        print(\"Marca: \", self.marca, \"\\nModelo: \", self.modelo, \"\\nEn marcha: \", self.enmarcha,\n",
    "             \"\\nAcelerando: \", self.acelera, \"\\nFrenado: \", self.frena)\n",
    "        \n",
    "coche1=Vehiculos(\"Mazda\", \"MX5\")\n",
    "coche2=Vehiculos(\"Seat\", \"Leon\")\n",
    "coche3=Vehiculos(\"Nissan\", \"Sentra\")\n",
    "coches=[coche1, coche2, coche3]\n",
    "fichero=open(\"losCoches\", \"wb\")\n",
    "pickle.dump(coches,fichero)\n",
    "fichero.close()\n",
    "del(fichero)\n",
    "\n",
    "ficheroApertura=open(\"losCoches\",\"rb\")\n",
    "misCoches=pickle.load(ficheroApertura)\n",
    "ficheroApertura.close()\n",
    "[print(c.estado()) for c in misCoches]"
   ]
  },
  {
   "cell_type": "markdown",
   "metadata": {},
   "source": [
    "## video 41"
   ]
  },
  {
   "cell_type": "code",
   "execution_count": 21,
   "metadata": {},
   "outputs": [
    {
     "name": "stdout",
     "output_type": "stream",
     "text": [
      "El fichero está vacío\n"
     ]
    }
   ],
   "source": [
    "import pickle\n",
    "\n",
    "class Persona:\n",
    "    \n",
    "    def __init__(self, nombre, genero, edad):\n",
    "        self.nombre=nombre\n",
    "        self.genero=genero\n",
    "        self.edad=edad\n",
    "        print(\"Se ha creado una persona nueva con el nombre de: \", self.nombre)\n",
    "        \n",
    "    def __str__(self):\n",
    "        return \"{} {} {}\".format(self.nombre, self.genero, self.edad)\n",
    "\n",
    "class ListaPersonas:\n",
    "    personas=[]\n",
    "    \n",
    "    def __init__(self):\n",
    "        listaDePersonas=open(\"ficheroExterno\", \"ab+\")\n",
    "        listaDePersonas.seek(0)\n",
    "        try:\n",
    "            self.personas=pickle.load(listaDePersonas)\n",
    "            print(\"Se cargaron {} personas del fichero externo\".format(len(self.personas)))\n",
    "        except:\n",
    "            print(\"El fichero está vacío\")\n",
    "        finally:\n",
    "            listaDePersonas.close()\n",
    "            del(listaDePersonas)\n",
    "    \n",
    "    def agregarPersonas(self,p):\n",
    "        self.personas.append(p)\n",
    "        \n",
    "    def mostrarPersonas(self):\n",
    "        [print(p) for p in self.personas]\n",
    "    \n",
    "\n",
    "miLista=ListaPersonas()\n"
   ]
  }
 ],
 "metadata": {
  "kernelspec": {
   "display_name": "Python 3",
   "language": "python",
   "name": "python3"
  },
  "language_info": {
   "codemirror_mode": {
    "name": "ipython",
    "version": 3
   },
   "file_extension": ".py",
   "mimetype": "text/x-python",
   "name": "python",
   "nbconvert_exporter": "python",
   "pygments_lexer": "ipython3",
   "version": "3.6.3"
  }
 },
 "nbformat": 4,
 "nbformat_minor": 2
}
